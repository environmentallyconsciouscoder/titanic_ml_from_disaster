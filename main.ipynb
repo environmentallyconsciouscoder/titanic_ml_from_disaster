{
 "cells": [
  {
   "cell_type": "markdown",
   "metadata": {},
   "source": [
    "**Step 1) Importing and Instantiating Classes**"
   ]
  },
  {
   "cell_type": "code",
   "execution_count": 88,
   "metadata": {},
   "outputs": [
    {
     "name": "stdout",
     "output_type": "stream",
     "text": [
      "Defaulting to user installation because normal site-packages is not writeable\n",
      "Requirement already satisfied: sweetviz in /Users/james/Library/Python/3.9/lib/python/site-packages (2.3.1)\n",
      "Requirement already satisfied: numpy>=1.16.0 in /Users/james/Library/Python/3.9/lib/python/site-packages (from sweetviz) (1.26.3)\n",
      "Requirement already satisfied: importlib-resources>=1.2.0 in /Users/james/Library/Python/3.9/lib/python/site-packages (from sweetviz) (6.1.1)\n",
      "Requirement already satisfied: matplotlib>=3.1.3 in /Users/james/Library/Python/3.9/lib/python/site-packages (from sweetviz) (3.8.2)\n",
      "Requirement already satisfied: pandas!=1.0.0,!=1.0.1,!=1.0.2,>=0.25.3 in /Users/james/Library/Python/3.9/lib/python/site-packages (from sweetviz) (2.2.0)\n",
      "Requirement already satisfied: scipy>=1.3.2 in /Users/james/Library/Python/3.9/lib/python/site-packages (from sweetviz) (1.12.0)\n",
      "Requirement already satisfied: tqdm>=4.43.0 in /Users/james/Library/Python/3.9/lib/python/site-packages (from sweetviz) (4.66.2)\n",
      "Requirement already satisfied: jinja2>=2.11.1 in /Users/james/Library/Python/3.9/lib/python/site-packages (from sweetviz) (3.1.3)\n",
      "Requirement already satisfied: zipp>=3.1.0 in /Users/james/Library/Python/3.9/lib/python/site-packages (from importlib-resources>=1.2.0->sweetviz) (3.17.0)\n",
      "Requirement already satisfied: MarkupSafe>=2.0 in /Users/james/Library/Python/3.9/lib/python/site-packages (from jinja2>=2.11.1->sweetviz) (2.1.5)\n",
      "Requirement already satisfied: contourpy>=1.0.1 in /Users/james/Library/Python/3.9/lib/python/site-packages (from matplotlib>=3.1.3->sweetviz) (1.2.0)\n",
      "Requirement already satisfied: pyparsing>=2.3.1 in /Users/james/Library/Python/3.9/lib/python/site-packages (from matplotlib>=3.1.3->sweetviz) (3.1.1)\n",
      "Requirement already satisfied: packaging>=20.0 in /Users/james/Library/Python/3.9/lib/python/site-packages (from matplotlib>=3.1.3->sweetviz) (23.2)\n",
      "Requirement already satisfied: python-dateutil>=2.7 in /Users/james/Library/Python/3.9/lib/python/site-packages (from matplotlib>=3.1.3->sweetviz) (2.8.2)\n",
      "Requirement already satisfied: kiwisolver>=1.3.1 in /Users/james/Library/Python/3.9/lib/python/site-packages (from matplotlib>=3.1.3->sweetviz) (1.4.5)\n",
      "Requirement already satisfied: pillow>=8 in /Users/james/Library/Python/3.9/lib/python/site-packages (from matplotlib>=3.1.3->sweetviz) (10.2.0)\n",
      "Requirement already satisfied: cycler>=0.10 in /Users/james/Library/Python/3.9/lib/python/site-packages (from matplotlib>=3.1.3->sweetviz) (0.12.1)\n",
      "Requirement already satisfied: fonttools>=4.22.0 in /Users/james/Library/Python/3.9/lib/python/site-packages (from matplotlib>=3.1.3->sweetviz) (4.47.2)\n",
      "Requirement already satisfied: pytz>=2020.1 in /Users/james/Library/Python/3.9/lib/python/site-packages (from pandas!=1.0.0,!=1.0.1,!=1.0.2,>=0.25.3->sweetviz) (2023.3.post1)\n",
      "Requirement already satisfied: tzdata>=2022.7 in /Users/james/Library/Python/3.9/lib/python/site-packages (from pandas!=1.0.0,!=1.0.1,!=1.0.2,>=0.25.3->sweetviz) (2023.4)\n",
      "Requirement already satisfied: six>=1.5 in /Applications/Xcode.app/Contents/Developer/Library/Frameworks/Python3.framework/Versions/3.9/lib/python3.9/site-packages (from python-dateutil>=2.7->matplotlib>=3.1.3->sweetviz) (1.15.0)\n",
      "\u001b[33mWARNING: You are using pip version 21.2.4; however, version 24.0 is available.\n",
      "You should consider upgrading via the '/Applications/Xcode.app/Contents/Developer/usr/bin/python3 -m pip install --upgrade pip' command.\u001b[0m\n",
      "Note: you may need to restart the kernel to use updated packages.\n"
     ]
    }
   ],
   "source": [
    "pip install sweetviz"
   ]
  },
  {
   "cell_type": "code",
   "execution_count": 89,
   "metadata": {},
   "outputs": [
    {
     "name": "stdout",
     "output_type": "stream",
     "text": [
      "Analysis Result:\n",
      "{'total_categorical_columns': 3, 'total_numerical_columns': 7, 'categorical_column_names': ['Name', 'Sex', 'Ticket'], 'numerical_column_names': ['PassengerId', 'Survived', 'Pclass', 'Age', 'SibSp', 'Parch', 'Fare']}\n"
     ]
    }
   ],
   "source": [
    "from utils import open_csv_file, analyze_dataframe, create_report\n",
    "\n",
    "from correlation_matrix import Correlation\n",
    "from data import DataFrame\n",
    "from machine_learning import MachineLearning\n",
    "from sklearn import metrics, svm\n",
    "from sklearn.metrics import classification_report\n",
    "import pandas as pd\n",
    "\n",
    "import numpy as np\n",
    "\n",
    "from graph import Graph\n",
    "import seaborn as sns\n",
    "\n",
    "training_data = open_csv_file('train.csv')\n",
    "data_frame_instance = DataFrame(training_data)\n",
    "\n",
    "analysis_result = analyze_dataframe(data_frame_instance)\n",
    "print(\"Analysis Result:\")\n",
    "print(analysis_result)"
   ]
  },
  {
   "cell_type": "markdown",
   "metadata": {},
   "source": [
    "**Step 2) Inspecting and Cleaning Data**"
   ]
  },
  {
   "cell_type": "code",
   "execution_count": 90,
   "metadata": {},
   "outputs": [],
   "source": [
    "# Replace missing values with median\n",
    "data_frame_instance.replace_missing_value_with_median('Age')\n"
   ]
  },
  {
   "cell_type": "markdown",
   "metadata": {},
   "source": [
    "**Step 3) Transforming Data**"
   ]
  },
  {
   "cell_type": "code",
   "execution_count": 91,
   "metadata": {},
   "outputs": [],
   "source": [
    "# Create column for last name\n",
    "data_frame_instance.create_last_name_column('Name')\n"
   ]
  },
  {
   "cell_type": "code",
   "execution_count": 92,
   "metadata": {},
   "outputs": [],
   "source": [
    "# Label encoding\n",
    "data_frame_instance.label_encoding('Last_name')\n",
    "\n",
    "# One-hot encoding\n",
    "data_frame_instance.hot_encoding('Embarked')\n",
    "data_frame_instance.hot_encoding('Sex')"
   ]
  },
  {
   "cell_type": "code",
   "execution_count": 93,
   "metadata": {},
   "outputs": [],
   "source": [
    "data_frame_instance.min_max_scaler('Last_name_encoded')\n"
   ]
  },
  {
   "cell_type": "code",
   "execution_count": 94,
   "metadata": {},
   "outputs": [
    {
     "data": {
      "text/plain": [
       "array([array([  0.    ,   7.8542,  10.5   ,  21.6792,  39.6875, 512.3292])],\n",
       "      dtype=object)"
      ]
     },
     "execution_count": 94,
     "metadata": {},
     "output_type": "execute_result"
    }
   ],
   "source": [
    "data_frame_instance.get_bin_edges('Fare','quantile')"
   ]
  },
  {
   "cell_type": "code",
   "execution_count": 95,
   "metadata": {},
   "outputs": [
    {
     "name": "stderr",
     "output_type": "stream",
     "text": [
      "/Users/james/Library/Python/3.9/lib/python/site-packages/sklearn/preprocessing/_discretization.py:322: UserWarning: Bins whose width are too small (i.e., <= 1e-8) in feature 0 are removed. Consider decreasing the number of bins.\n",
      "  warnings.warn(\n"
     ]
    }
   ],
   "source": [
    "data_frame_instance.bucket_quantile('Age')\n",
    "data_frame_instance.bucket_quantile('Fare')"
   ]
  },
  {
   "cell_type": "code",
   "execution_count": 96,
   "metadata": {},
   "outputs": [],
   "source": [
    "data_frame_instance.remove_columns(['PassengerId', 'Name', 'Cabin', 'Age', 'Fare', 'Ticket', 'Last_name'])"
   ]
  },
  {
   "cell_type": "markdown",
   "metadata": {},
   "source": [
    "**Step 4) Feature Selection**"
   ]
  },
  {
   "cell_type": "code",
   "execution_count": 97,
   "metadata": {},
   "outputs": [
    {
     "data": {
      "text/html": [
       "<div>\n",
       "<style scoped>\n",
       "    .dataframe tbody tr th:only-of-type {\n",
       "        vertical-align: middle;\n",
       "    }\n",
       "\n",
       "    .dataframe tbody tr th {\n",
       "        vertical-align: top;\n",
       "    }\n",
       "\n",
       "    .dataframe thead th {\n",
       "        text-align: right;\n",
       "    }\n",
       "</style>\n",
       "<table border=\"1\" class=\"dataframe\">\n",
       "  <thead>\n",
       "    <tr style=\"text-align: right;\">\n",
       "      <th></th>\n",
       "      <th>Survived</th>\n",
       "      <th>Pclass</th>\n",
       "      <th>SibSp</th>\n",
       "      <th>Parch</th>\n",
       "      <th>Embarked_C</th>\n",
       "      <th>Embarked_Q</th>\n",
       "      <th>Embarked_S</th>\n",
       "      <th>Embarked_nan</th>\n",
       "      <th>Sex_female</th>\n",
       "      <th>Sex_male</th>\n",
       "      <th>Last_name_encoded_scaled</th>\n",
       "      <th>Age_bucket</th>\n",
       "      <th>Fare_bucket</th>\n",
       "    </tr>\n",
       "  </thead>\n",
       "  <tbody>\n",
       "    <tr>\n",
       "      <th>Survived</th>\n",
       "      <td>NaN</td>\n",
       "      <td>NaN</td>\n",
       "      <td>NaN</td>\n",
       "      <td>NaN</td>\n",
       "      <td>NaN</td>\n",
       "      <td>NaN</td>\n",
       "      <td>NaN</td>\n",
       "      <td>NaN</td>\n",
       "      <td>NaN</td>\n",
       "      <td>NaN</td>\n",
       "      <td>NaN</td>\n",
       "      <td>NaN</td>\n",
       "      <td>NaN</td>\n",
       "    </tr>\n",
       "    <tr>\n",
       "      <th>Pclass</th>\n",
       "      <td>0.338481</td>\n",
       "      <td>NaN</td>\n",
       "      <td>NaN</td>\n",
       "      <td>NaN</td>\n",
       "      <td>NaN</td>\n",
       "      <td>NaN</td>\n",
       "      <td>NaN</td>\n",
       "      <td>NaN</td>\n",
       "      <td>NaN</td>\n",
       "      <td>NaN</td>\n",
       "      <td>NaN</td>\n",
       "      <td>NaN</td>\n",
       "      <td>NaN</td>\n",
       "    </tr>\n",
       "    <tr>\n",
       "      <th>SibSp</th>\n",
       "      <td>0.035322</td>\n",
       "      <td>0.083081</td>\n",
       "      <td>NaN</td>\n",
       "      <td>NaN</td>\n",
       "      <td>NaN</td>\n",
       "      <td>NaN</td>\n",
       "      <td>NaN</td>\n",
       "      <td>NaN</td>\n",
       "      <td>NaN</td>\n",
       "      <td>NaN</td>\n",
       "      <td>NaN</td>\n",
       "      <td>NaN</td>\n",
       "      <td>NaN</td>\n",
       "    </tr>\n",
       "    <tr>\n",
       "      <th>Parch</th>\n",
       "      <td>0.081629</td>\n",
       "      <td>0.018443</td>\n",
       "      <td>0.414838</td>\n",
       "      <td>NaN</td>\n",
       "      <td>NaN</td>\n",
       "      <td>NaN</td>\n",
       "      <td>NaN</td>\n",
       "      <td>NaN</td>\n",
       "      <td>NaN</td>\n",
       "      <td>NaN</td>\n",
       "      <td>NaN</td>\n",
       "      <td>NaN</td>\n",
       "      <td>NaN</td>\n",
       "    </tr>\n",
       "    <tr>\n",
       "      <th>Embarked_C</th>\n",
       "      <td>0.168240</td>\n",
       "      <td>0.243292</td>\n",
       "      <td>0.059528</td>\n",
       "      <td>0.011069</td>\n",
       "      <td>NaN</td>\n",
       "      <td>NaN</td>\n",
       "      <td>NaN</td>\n",
       "      <td>NaN</td>\n",
       "      <td>NaN</td>\n",
       "      <td>NaN</td>\n",
       "      <td>NaN</td>\n",
       "      <td>NaN</td>\n",
       "      <td>NaN</td>\n",
       "    </tr>\n",
       "    <tr>\n",
       "      <th>Embarked_Q</th>\n",
       "      <td>0.003650</td>\n",
       "      <td>0.221009</td>\n",
       "      <td>0.026354</td>\n",
       "      <td>0.081228</td>\n",
       "      <td>0.148258</td>\n",
       "      <td>NaN</td>\n",
       "      <td>NaN</td>\n",
       "      <td>NaN</td>\n",
       "      <td>NaN</td>\n",
       "      <td>NaN</td>\n",
       "      <td>NaN</td>\n",
       "      <td>NaN</td>\n",
       "      <td>NaN</td>\n",
       "    </tr>\n",
       "    <tr>\n",
       "      <th>Embarked_S</th>\n",
       "      <td>0.155660</td>\n",
       "      <td>0.081720</td>\n",
       "      <td>0.070941</td>\n",
       "      <td>0.063036</td>\n",
       "      <td>0.778359</td>\n",
       "      <td>0.496624</td>\n",
       "      <td>NaN</td>\n",
       "      <td>NaN</td>\n",
       "      <td>NaN</td>\n",
       "      <td>NaN</td>\n",
       "      <td>NaN</td>\n",
       "      <td>NaN</td>\n",
       "      <td>NaN</td>\n",
       "    </tr>\n",
       "    <tr>\n",
       "      <th>Embarked_nan</th>\n",
       "      <td>0.060095</td>\n",
       "      <td>0.074282</td>\n",
       "      <td>0.022508</td>\n",
       "      <td>0.022467</td>\n",
       "      <td>0.022864</td>\n",
       "      <td>0.014588</td>\n",
       "      <td>0.076588</td>\n",
       "      <td>NaN</td>\n",
       "      <td>NaN</td>\n",
       "      <td>NaN</td>\n",
       "      <td>NaN</td>\n",
       "      <td>NaN</td>\n",
       "      <td>NaN</td>\n",
       "    </tr>\n",
       "    <tr>\n",
       "      <th>Sex_female</th>\n",
       "      <td>0.543351</td>\n",
       "      <td>0.131900</td>\n",
       "      <td>0.114631</td>\n",
       "      <td>0.245489</td>\n",
       "      <td>0.082853</td>\n",
       "      <td>0.074115</td>\n",
       "      <td>0.125722</td>\n",
       "      <td>0.064296</td>\n",
       "      <td>NaN</td>\n",
       "      <td>NaN</td>\n",
       "      <td>NaN</td>\n",
       "      <td>NaN</td>\n",
       "      <td>NaN</td>\n",
       "    </tr>\n",
       "    <tr>\n",
       "      <th>Sex_male</th>\n",
       "      <td>0.543351</td>\n",
       "      <td>0.131900</td>\n",
       "      <td>0.114631</td>\n",
       "      <td>0.245489</td>\n",
       "      <td>0.082853</td>\n",
       "      <td>0.074115</td>\n",
       "      <td>0.125722</td>\n",
       "      <td>0.064296</td>\n",
       "      <td>1.000000</td>\n",
       "      <td>NaN</td>\n",
       "      <td>NaN</td>\n",
       "      <td>NaN</td>\n",
       "      <td>NaN</td>\n",
       "    </tr>\n",
       "    <tr>\n",
       "      <th>Last_name_encoded_scaled</th>\n",
       "      <td>0.058100</td>\n",
       "      <td>0.052529</td>\n",
       "      <td>0.016098</td>\n",
       "      <td>0.047632</td>\n",
       "      <td>0.000757</td>\n",
       "      <td>0.014437</td>\n",
       "      <td>0.012406</td>\n",
       "      <td>0.025371</td>\n",
       "      <td>0.020991</td>\n",
       "      <td>0.020991</td>\n",
       "      <td>NaN</td>\n",
       "      <td>NaN</td>\n",
       "      <td>NaN</td>\n",
       "    </tr>\n",
       "    <tr>\n",
       "      <th>Age_bucket</th>\n",
       "      <td>0.066009</td>\n",
       "      <td>0.260112</td>\n",
       "      <td>0.199131</td>\n",
       "      <td>0.151280</td>\n",
       "      <td>0.022798</td>\n",
       "      <td>0.039784</td>\n",
       "      <td>0.051611</td>\n",
       "      <td>0.063524</td>\n",
       "      <td>0.076129</td>\n",
       "      <td>0.076129</td>\n",
       "      <td>0.089740</td>\n",
       "      <td>NaN</td>\n",
       "      <td>NaN</td>\n",
       "    </tr>\n",
       "    <tr>\n",
       "      <th>Fare_bucket</th>\n",
       "      <td>0.313809</td>\n",
       "      <td>0.708138</td>\n",
       "      <td>0.361006</td>\n",
       "      <td>0.350079</td>\n",
       "      <td>0.192233</td>\n",
       "      <td>0.257166</td>\n",
       "      <td>0.013596</td>\n",
       "      <td>0.066612</td>\n",
       "      <td>0.243891</td>\n",
       "      <td>0.243891</td>\n",
       "      <td>0.042005</td>\n",
       "      <td>0.084362</td>\n",
       "      <td>NaN</td>\n",
       "    </tr>\n",
       "  </tbody>\n",
       "</table>\n",
       "</div>"
      ],
      "text/plain": [
       "                          Survived    Pclass     SibSp     Parch  Embarked_C  \\\n",
       "Survived                       NaN       NaN       NaN       NaN         NaN   \n",
       "Pclass                    0.338481       NaN       NaN       NaN         NaN   \n",
       "SibSp                     0.035322  0.083081       NaN       NaN         NaN   \n",
       "Parch                     0.081629  0.018443  0.414838       NaN         NaN   \n",
       "Embarked_C                0.168240  0.243292  0.059528  0.011069         NaN   \n",
       "Embarked_Q                0.003650  0.221009  0.026354  0.081228    0.148258   \n",
       "Embarked_S                0.155660  0.081720  0.070941  0.063036    0.778359   \n",
       "Embarked_nan              0.060095  0.074282  0.022508  0.022467    0.022864   \n",
       "Sex_female                0.543351  0.131900  0.114631  0.245489    0.082853   \n",
       "Sex_male                  0.543351  0.131900  0.114631  0.245489    0.082853   \n",
       "Last_name_encoded_scaled  0.058100  0.052529  0.016098  0.047632    0.000757   \n",
       "Age_bucket                0.066009  0.260112  0.199131  0.151280    0.022798   \n",
       "Fare_bucket               0.313809  0.708138  0.361006  0.350079    0.192233   \n",
       "\n",
       "                          Embarked_Q  Embarked_S  Embarked_nan  Sex_female  \\\n",
       "Survived                         NaN         NaN           NaN         NaN   \n",
       "Pclass                           NaN         NaN           NaN         NaN   \n",
       "SibSp                            NaN         NaN           NaN         NaN   \n",
       "Parch                            NaN         NaN           NaN         NaN   \n",
       "Embarked_C                       NaN         NaN           NaN         NaN   \n",
       "Embarked_Q                       NaN         NaN           NaN         NaN   \n",
       "Embarked_S                  0.496624         NaN           NaN         NaN   \n",
       "Embarked_nan                0.014588    0.076588           NaN         NaN   \n",
       "Sex_female                  0.074115    0.125722      0.064296         NaN   \n",
       "Sex_male                    0.074115    0.125722      0.064296    1.000000   \n",
       "Last_name_encoded_scaled    0.014437    0.012406      0.025371    0.020991   \n",
       "Age_bucket                  0.039784    0.051611      0.063524    0.076129   \n",
       "Fare_bucket                 0.257166    0.013596      0.066612    0.243891   \n",
       "\n",
       "                          Sex_male  Last_name_encoded_scaled  Age_bucket  \\\n",
       "Survived                       NaN                       NaN         NaN   \n",
       "Pclass                         NaN                       NaN         NaN   \n",
       "SibSp                          NaN                       NaN         NaN   \n",
       "Parch                          NaN                       NaN         NaN   \n",
       "Embarked_C                     NaN                       NaN         NaN   \n",
       "Embarked_Q                     NaN                       NaN         NaN   \n",
       "Embarked_S                     NaN                       NaN         NaN   \n",
       "Embarked_nan                   NaN                       NaN         NaN   \n",
       "Sex_female                     NaN                       NaN         NaN   \n",
       "Sex_male                       NaN                       NaN         NaN   \n",
       "Last_name_encoded_scaled  0.020991                       NaN         NaN   \n",
       "Age_bucket                0.076129                  0.089740         NaN   \n",
       "Fare_bucket               0.243891                  0.042005    0.084362   \n",
       "\n",
       "                          Fare_bucket  \n",
       "Survived                          NaN  \n",
       "Pclass                            NaN  \n",
       "SibSp                             NaN  \n",
       "Parch                             NaN  \n",
       "Embarked_C                        NaN  \n",
       "Embarked_Q                        NaN  \n",
       "Embarked_S                        NaN  \n",
       "Embarked_nan                      NaN  \n",
       "Sex_female                        NaN  \n",
       "Sex_male                          NaN  \n",
       "Last_name_encoded_scaled          NaN  \n",
       "Age_bucket                        NaN  \n",
       "Fare_bucket                       NaN  "
      ]
     },
     "execution_count": 97,
     "metadata": {},
     "output_type": "execute_result"
    }
   ],
   "source": [
    "# ## feature selection\n",
    "corr_mat_type_two = data_frame_instance.get_df().corr().abs()\n",
    "# ## created a matrix of ones with the same shape with corr mat\n",
    "mask = np.triu(np.ones_like(corr_mat_type_two, dtype=bool))\n",
    "mask_df = corr_mat_type_two.mask(mask)\n",
    "mask_df"
   ]
  },
  {
   "cell_type": "markdown",
   "metadata": {},
   "source": [
    "**Step 5) Machine learning and evaluation**"
   ]
  },
  {
   "cell_type": "code",
   "execution_count": 98,
   "metadata": {},
   "outputs": [
    {
     "name": "stdout",
     "output_type": "stream",
     "text": [
      "Accuracy 0.7910447761194029\n"
     ]
    },
    {
     "name": "stderr",
     "output_type": "stream",
     "text": [
      "/Users/james/Library/Python/3.9/lib/python/site-packages/sklearn/metrics/_regression.py:483: FutureWarning: 'squared' is deprecated in version 1.4 and will be removed in 1.6. To calculate the root mean squared error, use the function'root_mean_squared_error'.\n",
      "  warnings.warn(\n"
     ]
    }
   ],
   "source": [
    "data_to_use = data_frame_instance.get_df().iloc[:, 1:13]\n",
    "data_to_use\n",
    "data_to_target = data_frame_instance.get_df().iloc[:, 0]\n",
    "data_to_target\n",
    "ml = MachineLearning(data_to_use, data_to_target)\n",
    "# Split the data\n",
    "ml.split_data()\n",
    "\n",
    "# Fit the KNN classifier\n",
    "ml.fit_knn_classification()\n",
    "\n",
    "X_test = ml.X_test\n",
    "\n",
    "y_pred_knn = ml.predict_model(ml.knn_model)\n",
    "\n",
    "ml.evaluate_model(y_pred_knn)\n",
    "\n",
    "print('Accuracy', metrics.accuracy_score(ml.y_test, y_pred_knn))\n",
    "\n"
   ]
  },
  {
   "cell_type": "code",
   "execution_count": 99,
   "metadata": {},
   "outputs": [],
   "source": [
    "ml.decision_tree_gini_classifier()\n",
    "ml.decision_tree_depth_classifier()\n",
    "ml.decision_tree_entropy_classifier()\n"
   ]
  },
  {
   "cell_type": "code",
   "execution_count": 100,
   "metadata": {},
   "outputs": [],
   "source": [
    "y_pred_gini = ml.predict_model(ml.decision_tree_gini_model)\n",
    "y_pred_depth = ml.predict_model(ml.decision_tree_depth_model)\n",
    "y_pred_entropy = ml.predict_model(ml.decision_tree_entropy_model)\n"
   ]
  },
  {
   "cell_type": "code",
   "execution_count": 101,
   "metadata": {},
   "outputs": [
    {
     "name": "stdout",
     "output_type": "stream",
     "text": [
      "Accuracy 0.75\n"
     ]
    },
    {
     "name": "stderr",
     "output_type": "stream",
     "text": [
      "/Users/james/Library/Python/3.9/lib/python/site-packages/sklearn/metrics/_regression.py:483: FutureWarning: 'squared' is deprecated in version 1.4 and will be removed in 1.6. To calculate the root mean squared error, use the function'root_mean_squared_error'.\n",
      "  warnings.warn(\n"
     ]
    }
   ],
   "source": [
    "ml.evaluate_model(y_pred_gini)\n",
    "\n",
    "print('Accuracy', metrics.accuracy_score(ml.y_test, y_pred_gini))"
   ]
  },
  {
   "cell_type": "code",
   "execution_count": 102,
   "metadata": {},
   "outputs": [
    {
     "name": "stdout",
     "output_type": "stream",
     "text": [
      "Accuracy 0.7761194029850746\n"
     ]
    },
    {
     "name": "stderr",
     "output_type": "stream",
     "text": [
      "/Users/james/Library/Python/3.9/lib/python/site-packages/sklearn/metrics/_regression.py:483: FutureWarning: 'squared' is deprecated in version 1.4 and will be removed in 1.6. To calculate the root mean squared error, use the function'root_mean_squared_error'.\n",
      "  warnings.warn(\n"
     ]
    }
   ],
   "source": [
    "ml.evaluate_model(y_pred_depth)\n",
    "\n",
    "print('Accuracy', metrics.accuracy_score(ml.y_test, y_pred_depth))"
   ]
  },
  {
   "cell_type": "code",
   "execution_count": 103,
   "metadata": {},
   "outputs": [
    {
     "name": "stdout",
     "output_type": "stream",
     "text": [
      "Accuracy 0.7313432835820896\n"
     ]
    },
    {
     "name": "stderr",
     "output_type": "stream",
     "text": [
      "/Users/james/Library/Python/3.9/lib/python/site-packages/sklearn/metrics/_regression.py:483: FutureWarning: 'squared' is deprecated in version 1.4 and will be removed in 1.6. To calculate the root mean squared error, use the function'root_mean_squared_error'.\n",
      "  warnings.warn(\n"
     ]
    }
   ],
   "source": [
    "ml.evaluate_model(y_pred_entropy)\n",
    "\n",
    "print('Accuracy', metrics.accuracy_score(ml.y_test, y_pred_entropy))"
   ]
  },
  {
   "cell_type": "code",
   "execution_count": 104,
   "metadata": {},
   "outputs": [],
   "source": [
    "ml.svm_clf_linear_classifier()\n",
    "ml.svm_clf_sigmoid_classifier()\n",
    "ml.svm_clf_rbf_classifier()\n",
    "\n",
    "y_pred_linear = ml.predict_model(ml.svm_clf_linear_model)\n",
    "y_pred_sigmoid = ml.predict_model(ml.svm_clf_sigmoid_model)\n",
    "y_pred_rbf = ml.predict_model(ml.svm_clf_rbf_model)"
   ]
  },
  {
   "cell_type": "code",
   "execution_count": 105,
   "metadata": {},
   "outputs": [
    {
     "name": "stdout",
     "output_type": "stream",
     "text": [
      "Accuracy 0.7873134328358209\n"
     ]
    },
    {
     "name": "stderr",
     "output_type": "stream",
     "text": [
      "/Users/james/Library/Python/3.9/lib/python/site-packages/sklearn/metrics/_regression.py:483: FutureWarning: 'squared' is deprecated in version 1.4 and will be removed in 1.6. To calculate the root mean squared error, use the function'root_mean_squared_error'.\n",
      "  warnings.warn(\n"
     ]
    }
   ],
   "source": [
    "ml.evaluate_model(y_pred_linear)\n",
    "\n",
    "print('Accuracy', metrics.accuracy_score(ml.y_test, y_pred_linear))"
   ]
  },
  {
   "cell_type": "code",
   "execution_count": 106,
   "metadata": {},
   "outputs": [
    {
     "name": "stdout",
     "output_type": "stream",
     "text": [
      "Accuracy 0.6194029850746269\n"
     ]
    },
    {
     "name": "stderr",
     "output_type": "stream",
     "text": [
      "/Users/james/Library/Python/3.9/lib/python/site-packages/sklearn/metrics/_regression.py:483: FutureWarning: 'squared' is deprecated in version 1.4 and will be removed in 1.6. To calculate the root mean squared error, use the function'root_mean_squared_error'.\n",
      "  warnings.warn(\n"
     ]
    }
   ],
   "source": [
    "ml.evaluate_model(y_pred_sigmoid)\n",
    "\n",
    "print('Accuracy', metrics.accuracy_score(ml.y_test, y_pred_sigmoid))"
   ]
  },
  {
   "cell_type": "code",
   "execution_count": 107,
   "metadata": {},
   "outputs": [
    {
     "name": "stdout",
     "output_type": "stream",
     "text": [
      "Accuracy 0.7873134328358209\n"
     ]
    },
    {
     "name": "stderr",
     "output_type": "stream",
     "text": [
      "/Users/james/Library/Python/3.9/lib/python/site-packages/sklearn/metrics/_regression.py:483: FutureWarning: 'squared' is deprecated in version 1.4 and will be removed in 1.6. To calculate the root mean squared error, use the function'root_mean_squared_error'.\n",
      "  warnings.warn(\n"
     ]
    }
   ],
   "source": [
    "ml.evaluate_model(y_pred_rbf)\n",
    "print('Accuracy', metrics.accuracy_score(ml.y_test, y_pred_rbf))"
   ]
  },
  {
   "cell_type": "code",
   "execution_count": 108,
   "metadata": {},
   "outputs": [
    {
     "name": "stdout",
     "output_type": "stream",
     "text": [
      "{'0': {'precision': 0.8375, 'recall': 0.8170731707317073, 'f1-score': 0.8271604938271605, 'support': 164.0}, '1': {'precision': 0.7222222222222222, 'recall': 0.75, 'f1-score': 0.7358490566037735, 'support': 104.0}, 'accuracy': 0.7910447761194029, 'macro avg': {'precision': 0.7798611111111111, 'recall': 0.7835365853658536, 'f1-score': 0.781504775215467, 'support': 268.0}, 'weighted avg': {'precision': 0.7927653399668325, 'recall': 0.7910447761194029, 'f1-score': 0.7917262047553985, 'support': 268.0}}\n"
     ]
    },
    {
     "data": {
      "text/html": [
       "<div>\n",
       "<style scoped>\n",
       "    .dataframe tbody tr th:only-of-type {\n",
       "        vertical-align: middle;\n",
       "    }\n",
       "\n",
       "    .dataframe tbody tr th {\n",
       "        vertical-align: top;\n",
       "    }\n",
       "\n",
       "    .dataframe thead th {\n",
       "        text-align: right;\n",
       "    }\n",
       "</style>\n",
       "<table border=\"1\" class=\"dataframe\">\n",
       "  <thead>\n",
       "    <tr style=\"text-align: right;\">\n",
       "      <th></th>\n",
       "      <th>0</th>\n",
       "      <th>1</th>\n",
       "      <th>accuracy</th>\n",
       "      <th>macro avg</th>\n",
       "      <th>weighted avg</th>\n",
       "    </tr>\n",
       "  </thead>\n",
       "  <tbody>\n",
       "    <tr>\n",
       "      <th>precision</th>\n",
       "      <td>0.837500</td>\n",
       "      <td>0.722222</td>\n",
       "      <td>0.791045</td>\n",
       "      <td>0.779861</td>\n",
       "      <td>0.792765</td>\n",
       "    </tr>\n",
       "    <tr>\n",
       "      <th>recall</th>\n",
       "      <td>0.817073</td>\n",
       "      <td>0.750000</td>\n",
       "      <td>0.791045</td>\n",
       "      <td>0.783537</td>\n",
       "      <td>0.791045</td>\n",
       "    </tr>\n",
       "    <tr>\n",
       "      <th>f1-score</th>\n",
       "      <td>0.827160</td>\n",
       "      <td>0.735849</td>\n",
       "      <td>0.791045</td>\n",
       "      <td>0.781505</td>\n",
       "      <td>0.791726</td>\n",
       "    </tr>\n",
       "    <tr>\n",
       "      <th>support</th>\n",
       "      <td>164.000000</td>\n",
       "      <td>104.000000</td>\n",
       "      <td>0.791045</td>\n",
       "      <td>268.000000</td>\n",
       "      <td>268.000000</td>\n",
       "    </tr>\n",
       "  </tbody>\n",
       "</table>\n",
       "</div>"
      ],
      "text/plain": [
       "                    0           1  accuracy   macro avg  weighted avg\n",
       "precision    0.837500    0.722222  0.791045    0.779861      0.792765\n",
       "recall       0.817073    0.750000  0.791045    0.783537      0.791045\n",
       "f1-score     0.827160    0.735849  0.791045    0.781505      0.791726\n",
       "support    164.000000  104.000000  0.791045  268.000000    268.000000"
      ]
     },
     "execution_count": 108,
     "metadata": {},
     "output_type": "execute_result"
    }
   ],
   "source": [
    "print(classification_report(ml.y_test, y_pred_knn, output_dict=True))\n",
    "pd.DataFrame(classification_report(ml.y_test, y_pred_knn, output_dict=True))"
   ]
  }
 ],
 "metadata": {
  "kernelspec": {
   "display_name": "Python 3",
   "language": "python",
   "name": "python3"
  },
  "language_info": {
   "codemirror_mode": {
    "name": "ipython",
    "version": 3
   },
   "file_extension": ".py",
   "mimetype": "text/x-python",
   "name": "python",
   "nbconvert_exporter": "python",
   "pygments_lexer": "ipython3",
   "version": "3.9.6"
  }
 },
 "nbformat": 4,
 "nbformat_minor": 2
}
