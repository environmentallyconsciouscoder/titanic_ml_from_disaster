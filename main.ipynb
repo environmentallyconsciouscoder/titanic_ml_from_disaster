{
 "cells": [
  {
   "cell_type": "markdown",
   "metadata": {},
   "source": [
    "**Step 1) Importing and Instantiating Classes**"
   ]
  },
  {
   "cell_type": "code",
   "execution_count": null,
   "metadata": {},
   "outputs": [],
   "source": [
    "pip install sweetviz"
   ]
  },
  {
   "cell_type": "code",
   "execution_count": null,
   "metadata": {},
   "outputs": [],
   "source": [
    "from utils import open_csv_file, analyze_dataframe, create_report\n",
    "\n",
    "from correlation_matrix import Correlation\n",
    "from data import DataFrame\n",
    "from machine_learning import MachineLearning\n",
    "from sklearn import metrics, svm\n",
    "\n",
    "import numpy as np\n",
    "\n",
    "from graph import Graph\n",
    "import seaborn as sns\n",
    "\n",
    "training_data = open_csv_file('train.csv')\n",
    "data_frame_instance = DataFrame(training_data)\n",
    "\n",
    "analysis_result = analyze_dataframe(data_frame_instance)\n",
    "print(\"Analysis Result:\")\n",
    "print(analysis_result)"
   ]
  },
  {
   "cell_type": "markdown",
   "metadata": {},
   "source": [
    "**Step 2) Inspecting and Cleaning Data**"
   ]
  },
  {
   "cell_type": "code",
   "execution_count": null,
   "metadata": {},
   "outputs": [],
   "source": [
    "# Replace missing values with median\n",
    "data_frame_instance.replace_missing_value_with_median('Age')\n"
   ]
  },
  {
   "cell_type": "markdown",
   "metadata": {},
   "source": [
    "**Step 3) Transforming Data**"
   ]
  },
  {
   "cell_type": "code",
   "execution_count": null,
   "metadata": {},
   "outputs": [],
   "source": [
    "# Create column for last name\n",
    "data_frame_instance.create_last_name_column('Name')\n"
   ]
  },
  {
   "cell_type": "code",
   "execution_count": null,
   "metadata": {},
   "outputs": [],
   "source": [
    "# Label encoding\n",
    "data_frame_instance.label_encoding('Last_name')\n",
    "\n",
    "# One-hot encoding\n",
    "data_frame_instance.hot_encoding('Embarked')\n",
    "data_frame_instance.hot_encoding('Sex')"
   ]
  },
  {
   "cell_type": "code",
   "execution_count": null,
   "metadata": {},
   "outputs": [],
   "source": [
    "data_frame_instance.min_max_scaler('Last_name_encoded')\n"
   ]
  },
  {
   "cell_type": "code",
   "execution_count": null,
   "metadata": {},
   "outputs": [],
   "source": [
    "data_frame_instance.get_bin_edges('Fare','quantile')"
   ]
  },
  {
   "cell_type": "code",
   "execution_count": null,
   "metadata": {},
   "outputs": [],
   "source": [
    "data_frame_instance.bucket_quantile('Age')\n",
    "data_frame_instance.bucket_quantile('Fare')"
   ]
  },
  {
   "cell_type": "code",
   "execution_count": null,
   "metadata": {},
   "outputs": [],
   "source": [
    "data_frame_instance.remove_columns(['PassengerId', 'Name', 'Cabin', 'Age', 'Fare', 'Ticket', 'Last_name'])"
   ]
  },
  {
   "cell_type": "markdown",
   "metadata": {},
   "source": [
    "**Step 4) Feature Selection**"
   ]
  },
  {
   "cell_type": "code",
   "execution_count": null,
   "metadata": {},
   "outputs": [],
   "source": [
    "# ## feature selection\n",
    "corr_mat_type_two = data_frame_instance.get_df().corr().abs()\n",
    "# ## created a matrix of ones with the same shape with corr mat\n",
    "mask = np.triu(np.ones_like(corr_mat_type_two, dtype=bool))\n",
    "mask_df = corr_mat_type_two.mask(mask)\n",
    "mask_df"
   ]
  },
  {
   "cell_type": "markdown",
   "metadata": {},
   "source": [
    "**Step 5) Machine learning and evaluation**"
   ]
  },
  {
   "cell_type": "code",
   "execution_count": null,
   "metadata": {},
   "outputs": [],
   "source": [
    "data_to_use = data_frame_instance.get_df().iloc[:, 1:13]\n",
    "data_to_use\n",
    "data_to_target = data_frame_instance.get_df().iloc[:, 0]\n",
    "data_to_target\n",
    "ml = MachineLearning(data_to_use, data_to_target)\n",
    "# Split the data\n",
    "ml.split_data()\n",
    "\n",
    "# Fit the KNN classifier\n",
    "ml.fit_knn_classification()\n",
    "\n",
    "X_test = ml.X_test\n",
    "\n",
    "y_pred_knn = ml.predict_model(ml.knn_model)\n",
    "\n",
    "ml.evaluate_model(y_pred_knn)\n",
    "\n",
    "print('Accuracy', metrics.accuracy_score(ml.y_test, y_pred_knn))\n",
    "\n"
   ]
  },
  {
   "cell_type": "code",
   "execution_count": null,
   "metadata": {},
   "outputs": [],
   "source": [
    "ml.decision_tree_gini_classifier()\n",
    "ml.decision_tree_depth_classifier()\n",
    "ml.decision_tree_entropy_classifier()\n"
   ]
  },
  {
   "cell_type": "code",
   "execution_count": null,
   "metadata": {},
   "outputs": [],
   "source": [
    "y_pred_gini = ml.predict_model(ml.decision_tree_gini_model)\n",
    "y_pred_depth = ml.predict_model(ml.decision_tree_depth_model)\n",
    "y_pred_entropy = ml.predict_model(ml.decision_tree_entropy_model)\n"
   ]
  },
  {
   "cell_type": "code",
   "execution_count": null,
   "metadata": {},
   "outputs": [],
   "source": [
    "ml.evaluate_model(y_pred_gini)\n",
    "\n",
    "print('Accuracy', metrics.accuracy_score(ml.y_test, y_pred_gini))"
   ]
  },
  {
   "cell_type": "code",
   "execution_count": null,
   "metadata": {},
   "outputs": [],
   "source": [
    "ml.evaluate_model(y_pred_depth)\n",
    "\n",
    "print('Accuracy', metrics.accuracy_score(ml.y_test, y_pred_depth))"
   ]
  },
  {
   "cell_type": "code",
   "execution_count": null,
   "metadata": {},
   "outputs": [],
   "source": [
    "ml.evaluate_model(y_pred_entropy)\n",
    "\n",
    "print('Accuracy', metrics.accuracy_score(ml.y_test, y_pred_entropy))"
   ]
  },
  {
   "cell_type": "code",
   "execution_count": null,
   "metadata": {},
   "outputs": [],
   "source": [
    "ml.svm_clf_linear_classifier()\n",
    "ml.svm_clf_sigmoid_classifier()\n",
    "ml.svm_clf_rbf_classifier()\n",
    "\n",
    "y_pred_linear = ml.predict_model(ml.svm_clf_linear_model)\n",
    "y_pred_sigmoid = ml.predict_model(ml.svm_clf_sigmoid_model)\n",
    "y_pred_rbf = ml.predict_model(ml.svm_clf_rbf_model)"
   ]
  },
  {
   "cell_type": "code",
   "execution_count": null,
   "metadata": {},
   "outputs": [],
   "source": [
    "ml.evaluate_model(y_pred_linear)\n",
    "\n",
    "print('Accuracy', metrics.accuracy_score(ml.y_test, y_pred_linear))"
   ]
  },
  {
   "cell_type": "code",
   "execution_count": null,
   "metadata": {},
   "outputs": [],
   "source": [
    "ml.evaluate_model(y_pred_sigmoid)\n",
    "\n",
    "print('Accuracy', metrics.accuracy_score(ml.y_test, y_pred_sigmoid))"
   ]
  },
  {
   "cell_type": "code",
   "execution_count": null,
   "metadata": {},
   "outputs": [],
   "source": [
    "ml.evaluate_model(y_pred_rbf)\n",
    "print('Accuracy', metrics.accuracy_score(ml.y_test, y_pred_rbf))"
   ]
  },
  {
   "cell_type": "code",
   "execution_count": null,
   "metadata": {},
   "outputs": [],
   "source": []
  }
 ],
 "metadata": {
  "kernelspec": {
   "display_name": "Python 3",
   "language": "python",
   "name": "python3"
  },
  "language_info": {
   "codemirror_mode": {
    "name": "ipython",
    "version": 3
   },
   "file_extension": ".py",
   "mimetype": "text/x-python",
   "name": "python",
   "nbconvert_exporter": "python",
   "pygments_lexer": "ipython3",
   "version": "3.9.6"
  }
 },
 "nbformat": 4,
 "nbformat_minor": 2
}
