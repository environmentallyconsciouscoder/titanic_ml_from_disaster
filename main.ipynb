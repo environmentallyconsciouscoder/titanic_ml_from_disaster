{
 "cells": [
  {
   "cell_type": "markdown",
   "metadata": {},
   "source": [
    "**Step 1) Importing and Instantiating Classes**"
   ]
  },
  {
   "cell_type": "code",
   "execution_count": 1,
   "metadata": {},
   "outputs": [],
   "source": [
    "# pip install sweetviz"
   ]
  },
  {
   "cell_type": "code",
   "execution_count": 2,
   "metadata": {},
   "outputs": [
    {
     "name": "stderr",
     "output_type": "stream",
     "text": [
      "/Users/james/Library/Python/3.9/lib/python/site-packages/tqdm/auto.py:21: TqdmWarning: IProgress not found. Please update jupyter and ipywidgets. See https://ipywidgets.readthedocs.io/en/stable/user_install.html\n",
      "  from .autonotebook import tqdm as notebook_tqdm\n"
     ]
    },
    {
     "name": "stdout",
     "output_type": "stream",
     "text": [
      "Analysis Result:\n",
      "{'total_categorical_columns': 3, 'total_numerical_columns': 7, 'categorical_column_names': ['Name', 'Sex', 'Ticket'], 'numerical_column_names': ['PassengerId', 'Survived', 'Pclass', 'Age', 'SibSp', 'Parch', 'Fare']}\n"
     ]
    }
   ],
   "source": [
    "from utils import open_csv_file, analyze_dataframe, create_report\n",
    "\n",
    "from correlation_matrix import Correlation\n",
    "from data import DataFrame\n",
    "from machine_learning import MachineLearning\n",
    "from sklearn import metrics\n",
    "\n",
    "import numpy as np\n",
    "\n",
    "from graph import Graph\n",
    "import seaborn as sns\n",
    "\n",
    "training_data = open_csv_file('train.csv')\n",
    "data_frame_instance = DataFrame(training_data)\n",
    "\n",
    "analysis_result = analyze_dataframe(data_frame_instance)\n",
    "print(\"Analysis Result:\")\n",
    "print(analysis_result)"
   ]
  },
  {
   "cell_type": "markdown",
   "metadata": {},
   "source": [
    "**Step 2) Inspecting and Cleaning Data**"
   ]
  },
  {
   "cell_type": "code",
   "execution_count": 3,
   "metadata": {},
   "outputs": [],
   "source": [
    "# Check missing data\n",
    "# print(data_frame_instance.check_missing_data())\n",
    "# Check data types\n",
    "# print(data_frame_instance.check_data_type())\n",
    "\n",
    "# Replace missing values with median\n",
    "data_frame_instance.replace_missing_value_with_median('Age')\n",
    "# print(data_frame_instance.get_df())"
   ]
  },
  {
   "cell_type": "markdown",
   "metadata": {},
   "source": [
    "**Step 3) Transforming Data**"
   ]
  },
  {
   "cell_type": "code",
   "execution_count": 4,
   "metadata": {},
   "outputs": [],
   "source": [
    "# Create column for last name\n",
    "data_frame_instance.create_last_name_column('Name')\n",
    "# print(data_frame_instance.get_df()['last_name'])"
   ]
  },
  {
   "cell_type": "code",
   "execution_count": 5,
   "metadata": {},
   "outputs": [],
   "source": [
    "# Label encoding\n",
    "data_frame_instance.label_encoding('Last_name')\n",
    "# print(data_frame_instance.get_df())\n",
    "\n",
    "# One-hot encoding\n",
    "data_frame_instance.hot_encoding('Embarked')\n",
    "data_frame_instance.hot_encoding('Sex')\n",
    "# print(data_frame_instance.get_df()['Embarked_Q'])\n",
    "# print(data_frame_instance.get_df()['Embarked_S'])\n",
    "# print(data_frame_instance.get_df()['Embarked_C'])\n",
    "# print(data_frame_instance.get_df()['Sex_male'])\n",
    "# print(data_frame_instance.get_df()['Sex_female'])"
   ]
  },
  {
   "cell_type": "code",
   "execution_count": 6,
   "metadata": {},
   "outputs": [],
   "source": [
    "# graph_instance = Graph(sns)\n",
    "# graph_instance.bar_graph(data_frame_instance.get_df()['Last_name_encoded'])"
   ]
  },
  {
   "cell_type": "code",
   "execution_count": 7,
   "metadata": {},
   "outputs": [],
   "source": [
    "# print(data_frame_instance.get_df()['Last_name_encoded'])"
   ]
  },
  {
   "cell_type": "code",
   "execution_count": 8,
   "metadata": {},
   "outputs": [],
   "source": [
    "data_frame_instance.min_max_scaler('Last_name_encoded')\n",
    "# print(data_frame_instance.get_df()['Last_name_encoded_scaled'])"
   ]
  },
  {
   "cell_type": "code",
   "execution_count": 9,
   "metadata": {},
   "outputs": [
    {
     "data": {
      "text/plain": [
       "array([array([  0.    ,   7.8542,  10.5   ,  21.6792,  39.6875, 512.3292])],\n",
       "      dtype=object)"
      ]
     },
     "execution_count": 9,
     "metadata": {},
     "output_type": "execute_result"
    }
   ],
   "source": [
    "data_frame_instance.get_bin_edges('Fare','quantile')"
   ]
  },
  {
   "cell_type": "code",
   "execution_count": 10,
   "metadata": {},
   "outputs": [
    {
     "name": "stderr",
     "output_type": "stream",
     "text": [
      "/Users/james/Library/Python/3.9/lib/python/site-packages/sklearn/preprocessing/_discretization.py:322: UserWarning: Bins whose width are too small (i.e., <= 1e-8) in feature 0 are removed. Consider decreasing the number of bins.\n",
      "  warnings.warn(\n"
     ]
    }
   ],
   "source": [
    "data_frame_instance.bucket_quantile('Age')\n",
    "data_frame_instance.bucket_quantile('Fare')"
   ]
  },
  {
   "cell_type": "code",
   "execution_count": 11,
   "metadata": {},
   "outputs": [],
   "source": [
    "data_frame_instance.remove_columns(['PassengerId', 'Name', 'Cabin', 'Age', 'Fare', 'Ticket', 'Last_name'])"
   ]
  },
  {
   "cell_type": "code",
   "execution_count": 12,
   "metadata": {},
   "outputs": [],
   "source": [
    "# print(data_frame_instance.get_df())"
   ]
  },
  {
   "cell_type": "markdown",
   "metadata": {},
   "source": [
    "**Step 4) Feature Selection**"
   ]
  },
  {
   "cell_type": "code",
   "execution_count": 13,
   "metadata": {},
   "outputs": [],
   "source": [
    "# ## feature selection\n",
    "# corr_mat_type_two = data_frame_instance.get_df().corr().abs()\n",
    "# ## created a matrix of ones with the same shape with corr mat\n",
    "# mask = np.triu(np.ones_like(corr_mat_type_two, dtype=bool))\n",
    "# mask_df = corr_mat_type_two.mask(mask)\n",
    "# mask_df"
   ]
  },
  {
   "cell_type": "code",
   "execution_count": 14,
   "metadata": {},
   "outputs": [],
   "source": [
    "# correlation_instance = Correlation(data_frame_instance.get_df())\n",
    "# correlation_instance.create_correlation_matrix()"
   ]
  },
  {
   "cell_type": "code",
   "execution_count": 15,
   "metadata": {},
   "outputs": [],
   "source": [
    "# correlation_instance.filter_most_correlated_features()"
   ]
  },
  {
   "cell_type": "markdown",
   "metadata": {},
   "source": [
    "**Step 5) Machine learning and evaluation**"
   ]
  },
  {
   "cell_type": "code",
   "execution_count": 16,
   "metadata": {},
   "outputs": [
    {
     "name": "stdout",
     "output_type": "stream",
     "text": [
      "Mean Absolute Error (MAE): 0.208955223880597\n",
      "Root Mean Squared Error (RMSE): 0.45711620391383745\n",
      "R2 Score: 0.12007504690431525\n",
      "Mean Squared Error (MSE): 0.208955223880597\n",
      "Accuracy 0.7910447761194029\n"
     ]
    },
    {
     "name": "stderr",
     "output_type": "stream",
     "text": [
      "/Users/james/Library/Python/3.9/lib/python/site-packages/sklearn/metrics/_regression.py:483: FutureWarning: 'squared' is deprecated in version 1.4 and will be removed in 1.6. To calculate the root mean squared error, use the function'root_mean_squared_error'.\n",
      "  warnings.warn(\n"
     ]
    }
   ],
   "source": [
    "data_to_use = data_frame_instance.get_df().iloc[:, 1:13]\n",
    "data_to_use\n",
    "data_to_target = data_frame_instance.get_df().iloc[:, 0]\n",
    "data_to_target\n",
    "ml = MachineLearning(data_to_use, data_to_target)\n",
    "# Split the data\n",
    "ml.split_data()\n",
    "\n",
    "# Fit the KNN classifier\n",
    "ml.fit_knn_classification()\n",
    "\n",
    "X_test = ml.X_test\n",
    "\n",
    "y_pred_knn = ml.predict_model(ml.knn_model)\n",
    "\n",
    "ml.evaluate_model(y_pred_knn)\n",
    "\n",
    "print(\"Mean Absolute Error (MAE):\", ml.mae_train)\n",
    "print(\"Root Mean Squared Error (RMSE):\", ml.rmse_train)\n",
    "print(\"R2 Score:\", ml.r2_train)\n",
    "print(\"Mean Squared Error (MSE):\", ml.mse_train)\n",
    "print('Accuracy', metrics.accuracy_score(ml.y_test, y_pred_knn))\n",
    "\n"
   ]
  }
 ],
 "metadata": {
  "kernelspec": {
   "display_name": "Python 3",
   "language": "python",
   "name": "python3"
  },
  "language_info": {
   "codemirror_mode": {
    "name": "ipython",
    "version": 3
   },
   "file_extension": ".py",
   "mimetype": "text/x-python",
   "name": "python",
   "nbconvert_exporter": "python",
   "pygments_lexer": "ipython3",
   "version": "3.9.6"
  }
 },
 "nbformat": 4,
 "nbformat_minor": 2
}
